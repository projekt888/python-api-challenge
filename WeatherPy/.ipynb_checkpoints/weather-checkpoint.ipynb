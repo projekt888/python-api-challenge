{
 "cells": [
  {
   "cell_type": "markdown",
   "metadata": {},
   "source": [
    "### WeatherPy by Eric Roberts"
   ]
  },
  {
   "cell_type": "code",
   "execution_count": 44,
   "metadata": {},
   "outputs": [],
   "source": [
    "import matplotlib.pyplot as plt\n",
    "import pandas as pd\n",
    "import numpy as np\n",
    "import requests\n",
    "from datetime import datetime\n",
    "import json\n",
    "import csv\n",
    "\n",
    "# Import API key\n",
    "from api_keys import api_key\n",
    "\n",
    "# Incorporated citipy to determine city based on latitude and longitude\n",
    "from citipy import citipy\n",
    "\n",
    "# Output File (CSV)\n",
    "output_data_file = \"output_data/cities.csv\"\n",
    "\n",
    "# Range of latitudes and longitudes\n",
    "lat_range = (-90, 90)\n",
    "lng_range = (-180, 180)"
   ]
  },
  {
   "cell_type": "code",
   "execution_count": 16,
   "metadata": {},
   "outputs": [
    {
     "data": {
      "text/plain": [
       "617"
      ]
     },
     "execution_count": 16,
     "metadata": {},
     "output_type": "execute_result"
    }
   ],
   "source": [
    "# List for holding lat_lngs and cities\n",
    "lat_lngs = []\n",
    "cities = []\n",
    "countries = []\n",
    "\n",
    "# Create a set of random lat and lng combinations\n",
    "lats = np.random.uniform(low=lat_range[0], high=lat_range[1], size=1500)\n",
    "lngs = np.random.uniform(low=lng_range[0], high=lng_range[1], size=1500)\n",
    "lat_lngs = zip(lats, lngs)\n",
    "\n",
    "# Identify nearest city for each lat, lng combination\n",
    "for lat_lng in lat_lngs:\n",
    "    city = citipy.nearest_city(lat_lng[0], lat_lng[1])\n",
    "    \n",
    "    # If the city is unique, then add it to a our cities list\n",
    "    if city not in cities:\n",
    "        cities.append(city)\n",
    "\n",
    "# Print the city count to confirm sufficient count\n",
    "len(cities)"
   ]
  },
  {
   "cell_type": "code",
   "execution_count": null,
   "metadata": {},
   "outputs": [
    {
     "name": "stdout",
     "output_type": "stream",
     "text": [
      "Retrieving City 1 of 617 | new norfolk\n",
      "Retrieving City 2 of 617 | umzimvubu << 404, Not Found >>\n",
      "Retrieving City 3 of 617 | manggar\n",
      "Retrieving City 4 of 617 | bluff\n",
      "Retrieving City 5 of 617 | kabale\n",
      "Retrieving City 6 of 617 | bambous virieux\n",
      "Retrieving City 7 of 617 | ushuaia\n",
      "Retrieving City 8 of 617 | mahebourg\n",
      "Retrieving City 9 of 617 | kahului\n",
      "Retrieving City 10 of 617 | kapaa\n",
      "Retrieving City 11 of 617 | yellowknife\n",
      "Retrieving City 12 of 617 | kavaratti\n",
      "Retrieving City 13 of 617 | samalaeulu << 404, Not Found >>\n",
      "Retrieving City 14 of 617 | illoqqortoormiut << 404, Not Found >>\n",
      "Retrieving City 15 of 617 | hilo\n",
      "Retrieving City 16 of 617 | torbay\n",
      "Retrieving City 17 of 617 | quatre cocos\n",
      "Retrieving City 18 of 617 | mataura << 404, Not Found >>\n",
      "Retrieving City 19 of 617 | cidreira\n",
      "Retrieving City 20 of 617 | taolanaro << 404, Not Found >>\n",
      "Retrieving City 21 of 617 | busselton\n",
      "Retrieving City 22 of 617 | albert\n",
      "Retrieving City 23 of 617 | leopold\n",
      "Retrieving City 24 of 617 | port alfred\n",
      "Retrieving City 25 of 617 | isla mujeres\n",
      "Retrieving City 26 of 617 | alugan\n",
      "Retrieving City 27 of 617 | atikokan\n",
      "Retrieving City 28 of 617 | hermanus\n",
      "Retrieving City 29 of 617 | vaini\n",
      "Retrieving City 30 of 617 | castro\n",
      "Retrieving City 31 of 617 | lebu\n",
      "Retrieving City 32 of 617 | kununurra\n",
      "Retrieving City 33 of 617 | port hardy\n",
      "Retrieving City 34 of 617 | benavente\n",
      "Retrieving City 35 of 617 | pundaguitan\n",
      "Retrieving City 36 of 617 | heishan\n",
      "Retrieving City 37 of 617 | hobart\n",
      "Retrieving City 38 of 617 | coruripe\n",
      "Retrieving City 39 of 617 | belushya guba << 404, Not Found >>\n",
      "Retrieving City 40 of 617 | buncrana\n",
      "Retrieving City 41 of 617 | tadine\n",
      "Retrieving City 42 of 617 | vao\n",
      "Retrieving City 43 of 617 | rayon\n",
      "Retrieving City 44 of 617 | east london\n",
      "Retrieving City 45 of 617 | faya << 404, Not Found >>\n",
      "Retrieving City 46 of 617 | banjar\n",
      "Retrieving City 47 of 617 | yen bai\n",
      "Retrieving City 48 of 617 | khatanga\n",
      "Retrieving City 49 of 617 | griffith\n",
      "Retrieving City 50 of 617 | sakakah << 404, Not Found >>\n",
      "Retrieving City 51 of 617 | kaitangata\n",
      "Retrieving City 52 of 617 | ordubad\n",
      "Retrieving City 53 of 617 | georgetown\n",
      "Retrieving City 54 of 617 | victoria\n",
      "Retrieving City 55 of 617 | barrow\n",
      "Retrieving City 56 of 617 | hasaki\n",
      "Retrieving City 57 of 617 | aljezur\n",
      "Retrieving City 58 of 617 | bam\n",
      "Retrieving City 59 of 617 | uren\n",
      "Retrieving City 60 of 617 | nome\n",
      "Retrieving City 61 of 617 | tuktoyaktuk\n",
      "Retrieving City 62 of 617 | tsihombe << 404, Not Found >>\n",
      "Retrieving City 63 of 617 | rikitea\n",
      "Retrieving City 64 of 617 | tiksi\n",
      "Retrieving City 65 of 617 | makrana\n",
      "Retrieving City 66 of 617 | albany\n",
      "Retrieving City 67 of 617 | mount isa\n",
      "Retrieving City 68 of 617 | carnarvon\n",
      "Retrieving City 69 of 617 | keetmanshoop\n",
      "Retrieving City 70 of 617 | ribeira grande\n",
      "Retrieving City 71 of 617 | salalah\n",
      "Retrieving City 72 of 617 | saint-philippe\n",
      "Retrieving City 73 of 617 | cape town\n",
      "Retrieving City 74 of 617 | hobyo\n",
      "Retrieving City 75 of 617 | upernavik\n",
      "Retrieving City 76 of 617 | suntar\n",
      "Retrieving City 77 of 617 | ilo\n",
      "Retrieving City 78 of 617 | zambezi\n",
      "Retrieving City 79 of 617 | asadabad\n",
      "Retrieving City 80 of 617 | harper\n",
      "Retrieving City 81 of 617 | arraial do cabo\n",
      "Retrieving City 82 of 617 | tumannyy << 404, Not Found >>\n",
      "Retrieving City 83 of 617 | punta arenas\n",
      "Retrieving City 84 of 617 | bredasdorp\n",
      "Retrieving City 85 of 617 | butaritari\n",
      "Retrieving City 86 of 617 | nuuk\n",
      "Retrieving City 87 of 617 | bethel\n",
      "Retrieving City 88 of 617 | stornoway\n",
      "Retrieving City 89 of 617 | monrovia\n",
      "Retrieving City 90 of 617 | san-pedro\n",
      "Retrieving City 91 of 617 | longyearbyen\n",
      "Retrieving City 92 of 617 | north bend\n",
      "Retrieving City 93 of 617 | hithadhoo\n",
      "Retrieving City 94 of 617 | yulara\n",
      "Retrieving City 95 of 617 | cruz\n",
      "Retrieving City 96 of 617 | winneba\n",
      "Retrieving City 97 of 617 | alice springs\n",
      "Retrieving City 98 of 617 | cotonou\n",
      "Retrieving City 99 of 617 | salon\n",
      "Retrieving City 100 of 617 | mar del plata\n",
      "Retrieving City 101 of 617 | bubaque\n",
      "Retrieving City 102 of 617 | rundu\n",
      "Retrieving City 103 of 617 | sorvag << 404, Not Found >>\n",
      "Retrieving City 104 of 617 | mogadishu\n",
      "Retrieving City 105 of 617 | verkhoyansk\n",
      "Retrieving City 106 of 617 | thompson\n",
      "Retrieving City 107 of 617 | avarua\n",
      "Retrieving City 108 of 617 | kenai\n",
      "Retrieving City 109 of 617 | barcelos\n",
      "Retrieving City 110 of 617 | kopanskaya\n"
     ]
    }
   ],
   "source": [
    "def weatherurl(cityname,country):\n",
    "    #api.openweathermap.org/data/2.5/weather?q={city name},{country code}\n",
    "\n",
    "    base_url = \"http://api.openweathermap.org/data/2.5/weather?q=\"\n",
    "    base_url += cityname\n",
    "    base_url += \",\"\n",
    "    base_url += country\n",
    "    base_url += \"&appid=\"\n",
    "    base_url += api_key\n",
    "    return base_url\n",
    "\n",
    "\n",
    "def convert_from_k_to_f(k):\n",
    "    #T(°F) = T(K) × 9/5 - 459.67\n",
    "    f = (k * (9/5)) - 459.67\n",
    "    return f\n",
    "\n",
    "def mps_to_mph(mps):\n",
    "    return 2.23694 * mps\n",
    "\n",
    "cityprogress = 0\n",
    "loc = 0\n",
    "with open(output_data_file, 'w', newline='') as csvfile:\n",
    "    w = csv.writer(csvfile, delimiter=',')\n",
    "    \n",
    "    headers = ['City', 'Cloudiness', 'Country', 'Date', 'Humidity', 'Lat', 'Lng', 'Max Temp (F)', 'Wind Speed']\n",
    "    w.writerow(headers)\n",
    "    df = pd.DataFrame(columns=headers)\n",
    "\n",
    "    #cities[:50]\n",
    "    for city in cities:\n",
    "        url = weatherurl(city.city_name,city.country_code)\n",
    "        response = requests.get(url)\n",
    "        r = response.json()\n",
    "        cityprogress +=1\n",
    "        progress_string = \"Retrieving City \"+str(cityprogress)+\" of \"+str(len(cities))+\" | \"+city.city_name\n",
    "        if (r['cod'] == 200):\n",
    "            #retrieve these features:\n",
    "            #City, Cloudiness, Country, Date, Humidity, Lat, Lng, Max Temp, Wind Speed\n",
    "            row = [r['name'],r['clouds']['all'],r['sys']['country'],r['dt'],r['main']['humidity'],r['coord']['lat'],r['coord']['lon'],convert_from_k_to_f(r['main']['temp_max']),mps_to_mph(r['wind']['speed'])]\n",
    "            w.writerow(row)\n",
    "            df.loc[loc] = row\n",
    "            loc+=1\n",
    "        else:\n",
    "            progress_string+=\" << 404, Not Found >>\"\n",
    "        print (progress_string)\n",
    "\n",
    "            \n",
    "    print (\"Writing Complete\")\n"
   ]
  },
  {
   "cell_type": "code",
   "execution_count": 60,
   "metadata": {},
   "outputs": [
    {
     "data": {
      "text/html": [
       "<div>\n",
       "<style scoped>\n",
       "    .dataframe tbody tr th:only-of-type {\n",
       "        vertical-align: middle;\n",
       "    }\n",
       "\n",
       "    .dataframe tbody tr th {\n",
       "        vertical-align: top;\n",
       "    }\n",
       "\n",
       "    .dataframe thead th {\n",
       "        text-align: right;\n",
       "    }\n",
       "</style>\n",
       "<table border=\"1\" class=\"dataframe\">\n",
       "  <thead>\n",
       "    <tr style=\"text-align: right;\">\n",
       "      <th></th>\n",
       "      <th>City</th>\n",
       "      <th>Cloudiness</th>\n",
       "      <th>Country</th>\n",
       "      <th>Date</th>\n",
       "      <th>Humidity</th>\n",
       "      <th>Lat</th>\n",
       "      <th>Lng</th>\n",
       "      <th>Max Temp (F)</th>\n",
       "      <th>Wind Speed</th>\n",
       "    </tr>\n",
       "  </thead>\n",
       "  <tbody>\n",
       "    <tr>\n",
       "      <th>0</th>\n",
       "      <td>New Norfolk</td>\n",
       "      <td>100</td>\n",
       "      <td>AU</td>\n",
       "      <td>1567785351</td>\n",
       "      <td>95</td>\n",
       "      <td>-42.78</td>\n",
       "      <td>147.06</td>\n",
       "      <td>46.004</td>\n",
       "      <td>1.006623</td>\n",
       "    </tr>\n",
       "    <tr>\n",
       "      <th>1</th>\n",
       "      <td>Manggar</td>\n",
       "      <td>10</td>\n",
       "      <td>ID</td>\n",
       "      <td>1567785352</td>\n",
       "      <td>89</td>\n",
       "      <td>-2.88</td>\n",
       "      <td>108.27</td>\n",
       "      <td>75.110</td>\n",
       "      <td>4.406772</td>\n",
       "    </tr>\n",
       "    <tr>\n",
       "      <th>2</th>\n",
       "      <td>Bluff</td>\n",
       "      <td>20</td>\n",
       "      <td>NZ</td>\n",
       "      <td>1567785308</td>\n",
       "      <td>67</td>\n",
       "      <td>-46.60</td>\n",
       "      <td>168.33</td>\n",
       "      <td>45.950</td>\n",
       "      <td>6.889775</td>\n",
       "    </tr>\n",
       "    <tr>\n",
       "      <th>3</th>\n",
       "      <td>Kabale</td>\n",
       "      <td>100</td>\n",
       "      <td>UG</td>\n",
       "      <td>1567785352</td>\n",
       "      <td>72</td>\n",
       "      <td>-1.26</td>\n",
       "      <td>29.99</td>\n",
       "      <td>60.530</td>\n",
       "      <td>1.901399</td>\n",
       "    </tr>\n",
       "    <tr>\n",
       "      <th>4</th>\n",
       "      <td>Bambous Virieux</td>\n",
       "      <td>75</td>\n",
       "      <td>MU</td>\n",
       "      <td>1567785352</td>\n",
       "      <td>78</td>\n",
       "      <td>-20.34</td>\n",
       "      <td>57.76</td>\n",
       "      <td>73.400</td>\n",
       "      <td>3.355410</td>\n",
       "    </tr>\n",
       "  </tbody>\n",
       "</table>\n",
       "</div>"
      ],
      "text/plain": [
       "              City Cloudiness Country        Date Humidity    Lat     Lng  \\\n",
       "0      New Norfolk        100      AU  1567785351       95 -42.78  147.06   \n",
       "1          Manggar         10      ID  1567785352       89  -2.88  108.27   \n",
       "2            Bluff         20      NZ  1567785308       67 -46.60  168.33   \n",
       "3           Kabale        100      UG  1567785352       72  -1.26   29.99   \n",
       "4  Bambous Virieux         75      MU  1567785352       78 -20.34   57.76   \n",
       "\n",
       "   Max Temp (F)  Wind Speed  \n",
       "0        46.004    1.006623  \n",
       "1        75.110    4.406772  \n",
       "2        45.950    6.889775  \n",
       "3        60.530    1.901399  \n",
       "4        73.400    3.355410  "
      ]
     },
     "execution_count": 60,
     "metadata": {},
     "output_type": "execute_result"
    }
   ],
   "source": [
    "df.head()"
   ]
  },
  {
   "cell_type": "code",
   "execution_count": 61,
   "metadata": {},
   "outputs": [],
   "source": [
    "def find_the_date():\n",
    "    ts = int(min(list(df['Date'])))\n",
    "    return datetime.utcfromtimestamp(ts).strftime('%Y-%m-%d')\n",
    "\n",
    "the_date = find_the_date()"
   ]
  },
  {
   "cell_type": "code",
   "execution_count": 62,
   "metadata": {},
   "outputs": [
    {
     "data": {
      "text/plain": [
       "Text(0, 0.5, 'Temperature, Degrees Fahrenheit')"
      ]
     },
     "execution_count": 62,
     "metadata": {},
     "output_type": "execute_result"
    },
    {
     "data": {
      "image/png": "[encoded data removed]",
      "text/plain": [
       "<Figure size 432x288 with 1 Axes>"
      ]
     },
     "metadata": {
      "needs_background": "light"
     },
     "output_type": "display_data"
    }
   ],
   "source": [
    "lat_p = list(df['Lat'])\n",
    "temp_p = list(df['Max Temp (F)'])\n",
    "plt.xlim(-60, 82)\n",
    "plt.grid(True)\n",
    "\n",
    "plt.scatter(lat_p, temp_p, marker=\"o\", facecolors=\"#204763\", edgecolors=\"blue\")\n",
    "plt.title(\"City Latitude vs Max Temperature, \"+the_date)\n",
    "plt.xlabel(\"Latitude\")\n",
    "plt.ylabel(\"Temperature, Degrees Fahrenheit\")"
   ]
  },
  {
   "cell_type": "code",
   "execution_count": 66,
   "metadata": {},
   "outputs": [
    {
     "data": {
      "text/plain": [
       "Text(0, 0.5, 'Humidity (percent, max=100)')"
      ]
     },
     "execution_count": 66,
     "metadata": {},
     "output_type": "execute_result"
    },
    {
     "data": {
      "image/png": "[encoded data removed]",
      "text/plain": [
       "<Figure size 432x288 with 1 Axes>"
      ]
     },
     "metadata": {
      "needs_background": "light"
     },
     "output_type": "display_data"
    }
   ],
   "source": [
    "plt.xlim(-60, 82)\n",
    "plt.ylim(0, 100)\n",
    "\n",
    "plt.grid(True)\n",
    "\n",
    "plt.scatter(lat_p, list(df['Humidity']), marker=\"o\", facecolors=\"#204763\", edgecolors=\"blue\")\n",
    "plt.title(\"City Latitude vs Humidity, \"+the_date)\n",
    "plt.xlabel(\"Latitude\")\n",
    "plt.ylabel(\"Humidity (percent, max=100)\")\n",
    "\n"
   ]
  },
  {
   "cell_type": "code",
   "execution_count": 67,
   "metadata": {},
   "outputs": [
    {
     "data": {
      "text/plain": [
       "Text(0, 0.5, 'Cloudiness (percent, max=100)')"
      ]
     },
     "execution_count": 67,
     "metadata": {},
     "output_type": "execute_result"
    },
    {
     "data": {
      "image/png": "[encoded data removed]",
      "text/plain": [
       "<Figure size 432x288 with 1 Axes>"
      ]
     },
     "metadata": {
      "needs_background": "light"
     },
     "output_type": "display_data"
    }
   ],
   "source": [
    "plt.xlim(-60, 82)\n",
    "plt.ylim(0, 100)\n",
    "\n",
    "plt.grid(True)\n",
    "\n",
    "plt.scatter(lat_p, list(df['Cloudiness']), marker=\"o\", facecolors=\"#204763\", edgecolors=\"blue\")\n",
    "plt.title(\"City Latitude vs Cloudiness, \"+the_date)\n",
    "plt.xlabel(\"Latitude\")\n",
    "plt.ylabel(\"Cloudiness (percent, max=100)\")\n"
   ]
  },
  {
   "cell_type": "code",
   "execution_count": 68,
   "metadata": {},
   "outputs": [
    {
     "data": {
      "text/plain": [
       "Text(0, 0.5, 'Wind Speed in mph')"
      ]
     },
     "execution_count": 68,
     "metadata": {},
     "output_type": "execute_result"
    },
    {
     "data": {
      "image/png": "[encoded data removed]",
      "text/plain": [
       "<Figure size 432x288 with 1 Axes>"
      ]
     },
     "metadata": {
      "needs_background": "light"
     },
     "output_type": "display_data"
    }
   ],
   "source": [
    "plt.xlim(-60, 82)\n",
    "\n",
    "plt.grid(True)\n",
    "\n",
    "plt.scatter(lat_p, list(df['Wind Speed']), marker=\"o\", facecolors=\"#204763\", edgecolors=\"blue\")\n",
    "plt.title(\"City Latitude vs Wind Speed (mph), \"+the_date)\n",
    "plt.xlabel(\"Latitude\")\n",
    "plt.ylabel(\"Wind Speed in mph\")"
   ]
  },
  {
   "cell_type": "code",
   "execution_count": null,
   "metadata": {},
   "outputs": [],
   "source": []
  }
 ],
 "metadata": {
  "kernelspec": {
   "display_name": "Python 3",
   "language": "python",
   "name": "python3"
  },
  "language_info": {
   "codemirror_mode": {
    "name": "ipython",
    "version": 3
   },
   "file_extension": ".py",
   "mimetype": "text/x-python",
   "name": "python",
   "nbconvert_exporter": "python",
   "pygments_lexer": "ipython3",
   "version": "3.7.3"
  }
 },
 "nbformat": 4,
 "nbformat_minor": 2
}
