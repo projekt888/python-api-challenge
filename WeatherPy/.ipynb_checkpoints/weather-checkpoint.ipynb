{
 "cells": [
  {
   "cell_type": "markdown",
   "metadata": {},
   "source": [
    "### WeatherPy by Eric Roberts"
   ]
  },
  {
   "cell_type": "code",
   "execution_count": 28,
   "metadata": {},
   "outputs": [
    {
     "name": "stdout",
     "output_type": "stream",
     "text": [
      "90\n"
     ]
    }
   ],
   "source": [
    "import matplotlib.pyplot as plt\n",
    "import pandas as pd\n",
    "import numpy as np\n",
    "import requests\n",
    "import time\n",
    "import json\n",
    "\n",
    "# Import API key\n",
    "from api_keys import api_key\n",
    "\n",
    "# Incorporated citipy to determine city based on latitude and longitude\n",
    "from citipy import citipy\n",
    "\n",
    "# Output File (CSV)\n",
    "output_data_file = \"output_data/cities.csv\"\n",
    "\n",
    "# Range of latitudes and longitudes\n",
    "lat_range = (-90, 90)\n",
    "lng_range = (-180, 180)\n",
    "\n",
    "print (lat_range[1])"
   ]
  },
  {
   "cell_type": "code",
   "execution_count": 13,
   "metadata": {},
   "outputs": [
    {
     "data": {
      "text/plain": [
       "600"
      ]
     },
     "execution_count": 13,
     "metadata": {},
     "output_type": "execute_result"
    }
   ],
   "source": [
    "# List for holding lat_lngs and cities\n",
    "lat_lngs = []\n",
    "cities = []\n",
    "countries = []\n",
    "\n",
    "# Create a set of random lat and lng combinations\n",
    "lats = np.random.uniform(low=lat_range[0], high=lat_range[1], size=1500)\n",
    "lngs = np.random.uniform(low=lng_range[0], high=lng_range[1], size=1500)\n",
    "lat_lngs = zip(lats, lngs)\n",
    "\n",
    "# Identify nearest city for each lat, lng combination\n",
    "for lat_lng in lat_lngs:\n",
    "    city = citipy.nearest_city(lat_lng[0], lat_lng[1])\n",
    "    \n",
    "    # If the city is unique, then add it to a our cities list\n",
    "    if city not in cities:\n",
    "        cities.append(city)\n",
    "\n",
    "# Print the city count to confirm sufficient count\n",
    "len(cities)"
   ]
  },
  {
   "cell_type": "code",
   "execution_count": 37,
   "metadata": {},
   "outputs": [
    {
     "name": "stdout",
     "output_type": "stream",
     "text": [
      "{\n",
      "    \"base\": \"stations\",\n",
      "    \"clouds\": {\n",
      "        \"all\": 0\n",
      "    },\n",
      "    \"cod\": 200,\n",
      "    \"coord\": {\n",
      "        \"lat\": -35.02,\n",
      "        \"lon\": 117.88\n",
      "    },\n",
      "    \"dt\": 1567741522,\n",
      "    \"id\": 2077963,\n",
      "    \"main\": {\n",
      "        \"humidity\": 54,\n",
      "        \"pressure\": 1024,\n",
      "        \"temp\": 287.15,\n",
      "        \"temp_max\": 287.15,\n",
      "        \"temp_min\": 287.15\n",
      "    },\n",
      "    \"name\": \"Albany\",\n",
      "    \"sys\": {\n",
      "        \"country\": \"AU\",\n",
      "        \"id\": 9484,\n",
      "        \"message\": 0.0059,\n",
      "        \"sunrise\": 1567722120,\n",
      "        \"sunset\": 1567763556,\n",
      "        \"type\": 1\n",
      "    },\n",
      "    \"timezone\": 28800,\n",
      "    \"visibility\": 10000,\n",
      "    \"weather\": [\n",
      "        {\n",
      "            \"description\": \"clear sky\",\n",
      "            \"icon\": \"01d\",\n",
      "            \"id\": 800,\n",
      "            \"main\": \"Clear\"\n",
      "        }\n",
      "    ],\n",
      "    \"wind\": {\n",
      "        \"deg\": 350,\n",
      "        \"speed\": 5.7\n",
      "    }\n",
      "}\n",
      "stations\n",
      "0\n",
      "1567741522\n",
      "54\n",
      "-35.02\n",
      "117.88\n",
      "287.15\n",
      "5.7\n"
     ]
    }
   ],
   "source": [
    "def weatherurl(cityname,country):\n",
    "    #api.openweathermap.org/data/2.5/weather?q={city name},{country code}\n",
    "\n",
    "    base_url = \"http://api.openweathermap.org/data/2.5/weather?q=\"\n",
    "    base_url += cityname\n",
    "    base_url += \",\"\n",
    "    base_url += country\n",
    "    base_url += \"&appid=\"\n",
    "    base_url += api_key\n",
    "    return base_url\n",
    "\n",
    "for city in cities:\n",
    "    url = weatherurl(city.city_name,city.country_code)\n",
    "    response = requests.get(url)\n",
    "    r = response.json()\n",
    "    print(json.dumps(r, indent=4, sort_keys=True))\n",
    "    print (r['base'])\n",
    "    #retrieve these features:\n",
    "    #City, Cloudiness, Country, Date, Humidity, Lat, Lng, Max Temp, Wind Speed\n",
    "    print (r['clouds']['all'])\n",
    "    print (r['dt'])\n",
    "    print (r['main']['humidity'])\n",
    "    print (r['coord']['lat'])\n",
    "    print (r['coord']['lon'])\n",
    "    print (r['main']['temp_max'])\n",
    "    print (r['wind']['speed'])\n",
    "\n",
    "\n",
    "    break"
   ]
  },
  {
   "cell_type": "code",
   "execution_count": null,
   "metadata": {},
   "outputs": [],
   "source": []
  }
 ],
 "metadata": {
  "kernelspec": {
   "display_name": "Python 3",
   "language": "python",
   "name": "python3"
  },
  "language_info": {
   "codemirror_mode": {
    "name": "ipython",
    "version": 3
   },
   "file_extension": ".py",
   "mimetype": "text/x-python",
   "name": "python",
   "nbconvert_exporter": "python",
   "pygments_lexer": "ipython3",
   "version": "3.7.3"
  }
 },
 "nbformat": 4,
 "nbformat_minor": 2
}
